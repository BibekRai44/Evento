{
 "cells": [
  {
   "cell_type": "code",
   "execution_count": 1,
   "id": "d91bfced",
   "metadata": {
    "_cell_guid": "b1076dfc-b9ad-4769-8c92-a6c4dae69d19",
    "_uuid": "8f2839f25d086af736a60e9eeb907d3b93b6e0e5",
    "execution": {
     "iopub.execute_input": "2024-03-19T04:45:17.294557Z",
     "iopub.status.busy": "2024-03-19T04:45:17.293616Z",
     "iopub.status.idle": "2024-03-19T04:45:19.163829Z",
     "shell.execute_reply": "2024-03-19T04:45:19.162257Z"
    },
    "papermill": {
     "duration": 1.880724,
     "end_time": "2024-03-19T04:45:19.166751",
     "exception": false,
     "start_time": "2024-03-19T04:45:17.286027",
     "status": "completed"
    },
    "tags": []
   },
   "outputs": [],
   "source": [
    "#importing required Libraries\n",
    "\n",
    "import pandas as pd\n",
    "import numpy as np\n",
    "from sklearn.feature_extraction.text import TfidfVectorizer"
   ]
  },
  {
   "cell_type": "code",
   "execution_count": 2,
   "id": "39da3646",
   "metadata": {
    "execution": {
     "iopub.execute_input": "2024-03-19T04:45:19.179662Z",
     "iopub.status.busy": "2024-03-19T04:45:19.179110Z",
     "iopub.status.idle": "2024-03-19T04:45:19.220124Z",
     "shell.execute_reply": "2024-03-19T04:45:19.219035Z"
    },
    "papermill": {
     "duration": 0.050283,
     "end_time": "2024-03-19T04:45:19.222734",
     "exception": false,
     "start_time": "2024-03-19T04:45:19.172451",
     "status": "completed"
    },
    "tags": []
   },
   "outputs": [
    {
     "data": {
      "text/html": [
       "<div>\n",
       "<style scoped>\n",
       "    .dataframe tbody tr th:only-of-type {\n",
       "        vertical-align: middle;\n",
       "    }\n",
       "\n",
       "    .dataframe tbody tr th {\n",
       "        vertical-align: top;\n",
       "    }\n",
       "\n",
       "    .dataframe thead th {\n",
       "        text-align: right;\n",
       "    }\n",
       "</style>\n",
       "<table border=\"1\" class=\"dataframe\">\n",
       "  <thead>\n",
       "    <tr style=\"text-align: right;\">\n",
       "      <th></th>\n",
       "      <th>id</th>\n",
       "      <th>eventname</th>\n",
       "      <th>duration</th>\n",
       "      <th>date</th>\n",
       "      <th>location</th>\n",
       "      <th>description</th>\n",
       "      <th>time</th>\n",
       "      <th>organizer</th>\n",
       "      <th>contactorganizer</th>\n",
       "      <th>image_path</th>\n",
       "      <th>user_id</th>\n",
       "    </tr>\n",
       "  </thead>\n",
       "  <tbody>\n",
       "    <tr>\n",
       "      <th>0</th>\n",
       "      <td>1</td>\n",
       "      <td>2024 Repco Adelaide MotorSport Festival</td>\n",
       "      <td>2 days</td>\n",
       "      <td>2024-03-15</td>\n",
       "      <td>Hilton Houston Westchase</td>\n",
       "      <td>come and join us</td>\n",
       "      <td>09:00</td>\n",
       "      <td>Adelaide Motorsport Festival</td>\n",
       "      <td>https://www.facebook.com/adelaidemotorsportfes...</td>\n",
       "      <td>411316059_675307904753977_3454518149217349407_...</td>\n",
       "      <td>1</td>\n",
       "    </tr>\n",
       "    <tr>\n",
       "      <th>1</th>\n",
       "      <td>2</td>\n",
       "      <td>Blood Donation Program</td>\n",
       "      <td>1 day</td>\n",
       "      <td>2024-03-20</td>\n",
       "      <td>Birtamode, Jhapa, 57204</td>\n",
       "      <td>Donate Blood - Save Lives\\r\\nVenue: Durga Mand...</td>\n",
       "      <td>09:00</td>\n",
       "      <td>Biratamod Round Table</td>\n",
       "      <td>https://www.facebook.com/birtamoderoundtable</td>\n",
       "      <td>433238822_708984091442096_3851098017303531006_...</td>\n",
       "      <td>1</td>\n",
       "    </tr>\n",
       "    <tr>\n",
       "      <th>2</th>\n",
       "      <td>3</td>\n",
       "      <td>धार्मिक तिर्थ</td>\n",
       "      <td>1 day</td>\n",
       "      <td>2024-03-27</td>\n",
       "      <td>Kakarvitta, Jhapa, Nepal काँकरभिट्टा झापा नेपाल</td>\n",
       "      <td>यस धार्मिक तिर्थ यात्रामा हामी निम्न तिर्थ हरु...</td>\n",
       "      <td>07:00</td>\n",
       "      <td>तिर्थ यात्री</td>\n",
       "      <td>https://www.facebook.com/profile.php?id=100090...</td>\n",
       "      <td>425486992_334556589577966_3357410777243732973_...</td>\n",
       "      <td>2</td>\n",
       "    </tr>\n",
       "    <tr>\n",
       "      <th>3</th>\n",
       "      <td>4</td>\n",
       "      <td>Holi Utsav 2080</td>\n",
       "      <td>1 day</td>\n",
       "      <td>2024-03-25</td>\n",
       "      <td>Birtamod City Centre</td>\n",
       "      <td>Experience the Colour Of Festival Holi Utsav 2...</td>\n",
       "      <td>11:45</td>\n",
       "      <td>DJ NOX</td>\n",
       "      <td>https://www.facebook.com/DJNOXOFFICIALL</td>\n",
       "      <td>430870976_827171439425262_6377242910932712263_...</td>\n",
       "      <td>2</td>\n",
       "    </tr>\n",
       "    <tr>\n",
       "      <th>4</th>\n",
       "      <td>5</td>\n",
       "      <td>World Ballet Series: Swan Lake</td>\n",
       "      <td>8 days</td>\n",
       "      <td>2024-03-19</td>\n",
       "      <td>Grand Theater Wausau</td>\n",
       "      <td>Experience the legendary!\\r\\nSwan Lake, the ba...</td>\n",
       "      <td>09:00</td>\n",
       "      <td>World Ballet Series</td>\n",
       "      <td>https://www.facebook.com/WorldBalletSeries</td>\n",
       "      <td>397996973_377937914572108_3266529130995189664_...</td>\n",
       "      <td>3</td>\n",
       "    </tr>\n",
       "  </tbody>\n",
       "</table>\n",
       "</div>"
      ],
      "text/plain": [
       "   id                                eventname duration        date  \\\n",
       "0   1  2024 Repco Adelaide MotorSport Festival   2 days  2024-03-15   \n",
       "1   2                   Blood Donation Program    1 day  2024-03-20   \n",
       "2   3                            धार्मिक तिर्थ    1 day  2024-03-27   \n",
       "3   4                          Holi Utsav 2080    1 day  2024-03-25   \n",
       "4   5           World Ballet Series: Swan Lake   8 days  2024-03-19   \n",
       "\n",
       "                                          location  \\\n",
       "0                         Hilton Houston Westchase   \n",
       "1                          Birtamode, Jhapa, 57204   \n",
       "2  Kakarvitta, Jhapa, Nepal काँकरभिट्टा झापा नेपाल   \n",
       "3                             Birtamod City Centre   \n",
       "4                             Grand Theater Wausau   \n",
       "\n",
       "                                         description   time  \\\n",
       "0                                   come and join us  09:00   \n",
       "1  Donate Blood - Save Lives\\r\\nVenue: Durga Mand...  09:00   \n",
       "2  यस धार्मिक तिर्थ यात्रामा हामी निम्न तिर्थ हरु...  07:00   \n",
       "3  Experience the Colour Of Festival Holi Utsav 2...  11:45   \n",
       "4  Experience the legendary!\\r\\nSwan Lake, the ba...  09:00   \n",
       "\n",
       "                      organizer  \\\n",
       "0  Adelaide Motorsport Festival   \n",
       "1         Biratamod Round Table   \n",
       "2                  तिर्थ यात्री   \n",
       "3                        DJ NOX   \n",
       "4           World Ballet Series   \n",
       "\n",
       "                                    contactorganizer  \\\n",
       "0  https://www.facebook.com/adelaidemotorsportfes...   \n",
       "1       https://www.facebook.com/birtamoderoundtable   \n",
       "2  https://www.facebook.com/profile.php?id=100090...   \n",
       "3            https://www.facebook.com/DJNOXOFFICIALL   \n",
       "4         https://www.facebook.com/WorldBalletSeries   \n",
       "\n",
       "                                          image_path  user_id  \n",
       "0  411316059_675307904753977_3454518149217349407_...        1  \n",
       "1  433238822_708984091442096_3851098017303531006_...        1  \n",
       "2  425486992_334556589577966_3357410777243732973_...        2  \n",
       "3  430870976_827171439425262_6377242910932712263_...        2  \n",
       "4  397996973_377937914572108_3266529130995189664_...        3  "
      ]
     },
     "execution_count": 2,
     "metadata": {},
     "output_type": "execute_result"
    }
   ],
   "source": [
    "#loading dataset\n",
    "\n",
    "df=pd.read_csv(\"/kaggle/input/eventdesc/event_description.csv\")\n",
    "df.head()"
   ]
  },
  {
   "cell_type": "code",
   "execution_count": 3,
   "id": "9ffc8011",
   "metadata": {
    "execution": {
     "iopub.execute_input": "2024-03-19T04:45:19.235334Z",
     "iopub.status.busy": "2024-03-19T04:45:19.234885Z",
     "iopub.status.idle": "2024-03-19T04:45:19.244758Z",
     "shell.execute_reply": "2024-03-19T04:45:19.243696Z"
    },
    "papermill": {
     "duration": 0.018944,
     "end_time": "2024-03-19T04:45:19.247165",
     "exception": false,
     "start_time": "2024-03-19T04:45:19.228221",
     "status": "completed"
    },
    "tags": []
   },
   "outputs": [
    {
     "data": {
      "text/plain": [
       "0                                     come and join us\n",
       "1    Donate Blood - Save Lives\\r\\nVenue: Durga Mand...\n",
       "2    यस धार्मिक तिर्थ यात्रामा हामी निम्न तिर्थ हरु...\n",
       "3    Experience the Colour Of Festival Holi Utsav 2...\n",
       "4    Experience the legendary!\\r\\nSwan Lake, the ba...\n",
       "Name: description, dtype: object"
      ]
     },
     "execution_count": 3,
     "metadata": {},
     "output_type": "execute_result"
    }
   ],
   "source": [
    "#selecting features \n",
    "\n",
    "event_descriptions = df['description']\n",
    "event_descriptions.head()"
   ]
  },
  {
   "cell_type": "code",
   "execution_count": 4,
   "id": "7b59587a",
   "metadata": {
    "execution": {
     "iopub.execute_input": "2024-03-19T04:45:19.259910Z",
     "iopub.status.busy": "2024-03-19T04:45:19.259537Z",
     "iopub.status.idle": "2024-03-19T04:45:19.264272Z",
     "shell.execute_reply": "2024-03-19T04:45:19.263241Z"
    },
    "papermill": {
     "duration": 0.013706,
     "end_time": "2024-03-19T04:45:19.266601",
     "exception": false,
     "start_time": "2024-03-19T04:45:19.252895",
     "status": "completed"
    },
    "tags": []
   },
   "outputs": [],
   "source": [
    "# Initializing the TF-IDF vectorizer\n",
    "\n",
    "vectorizer = TfidfVectorizer(stop_words='english')"
   ]
  },
  {
   "cell_type": "code",
   "execution_count": 5,
   "id": "3d8aba23",
   "metadata": {
    "execution": {
     "iopub.execute_input": "2024-03-19T04:45:19.279205Z",
     "iopub.status.busy": "2024-03-19T04:45:19.278845Z",
     "iopub.status.idle": "2024-03-19T04:45:19.301929Z",
     "shell.execute_reply": "2024-03-19T04:45:19.301038Z"
    },
    "papermill": {
     "duration": 0.03241,
     "end_time": "2024-03-19T04:45:19.304536",
     "exception": false,
     "start_time": "2024-03-19T04:45:19.272126",
     "status": "completed"
    },
    "tags": []
   },
   "outputs": [],
   "source": [
    "# Fitting and transforming the event descriptions using TF-IDF vectorizer\n",
    "\n",
    "tfidf_matrix = vectorizer.fit_transform(event_descriptions)"
   ]
  },
  {
   "cell_type": "code",
   "execution_count": 6,
   "id": "e330231f",
   "metadata": {
    "execution": {
     "iopub.execute_input": "2024-03-19T04:45:19.318120Z",
     "iopub.status.busy": "2024-03-19T04:45:19.317748Z",
     "iopub.status.idle": "2024-03-19T04:45:19.323710Z",
     "shell.execute_reply": "2024-03-19T04:45:19.322556Z"
    },
    "papermill": {
     "duration": 0.015425,
     "end_time": "2024-03-19T04:45:19.325956",
     "exception": false,
     "start_time": "2024-03-19T04:45:19.310531",
     "status": "completed"
    },
    "tags": []
   },
   "outputs": [],
   "source": [
    "# Converting  the TF-IDF matrix to a DataFrame with columns as terms and rows as events\n",
    "\n",
    "tfidf_df = pd.DataFrame(tfidf_matrix.toarray(), columns=vectorizer.get_feature_names_out())"
   ]
  },
  {
   "cell_type": "code",
   "execution_count": 7,
   "id": "ac7b4c55",
   "metadata": {
    "execution": {
     "iopub.execute_input": "2024-03-19T04:45:19.338946Z",
     "iopub.status.busy": "2024-03-19T04:45:19.338587Z",
     "iopub.status.idle": "2024-03-19T04:45:19.355493Z",
     "shell.execute_reply": "2024-03-19T04:45:19.354357Z"
    },
    "papermill": {
     "duration": 0.026354,
     "end_time": "2024-03-19T04:45:19.357997",
     "exception": false,
     "start_time": "2024-03-19T04:45:19.331643",
     "status": "completed"
    },
    "tags": []
   },
   "outputs": [
    {
     "name": "stdout",
     "output_type": "stream",
     "text": [
      "         14       140       150        20      2024      2074      2080  \\\n",
      "0  0.000000  0.000000  0.000000  0.000000  0.000000  0.000000  0.000000   \n",
      "1  0.000000  0.000000  0.000000  0.000000  0.172587  0.000000  0.000000   \n",
      "2  0.164399  0.000000  0.000000  0.000000  0.000000  0.164399  0.000000   \n",
      "3  0.000000  0.000000  0.000000  0.000000  0.000000  0.000000  0.110698   \n",
      "4  0.000000  0.000000  0.079044  0.093586  0.000000  0.000000  0.000000   \n",
      "5  0.000000  0.000000  0.070122  0.000000  0.053869  0.000000  0.000000   \n",
      "6  0.000000  0.000000  0.000000  0.000000  0.267516  0.000000  0.000000   \n",
      "7  0.000000  0.000000  0.000000  0.000000  0.000000  0.000000  0.000000   \n",
      "8  0.000000  0.096311  0.000000  0.000000  0.062492  0.000000  0.000000   \n",
      "\n",
      "       20th        26        27  ...        मन       यबस        यस        रम  \\\n",
      "0  0.000000  0.000000  0.000000  ...  0.000000  0.000000  0.000000  0.000000   \n",
      "1  0.265988  0.000000  0.000000  ...  0.000000  0.000000  0.000000  0.000000   \n",
      "2  0.000000  0.000000  0.000000  ...  0.164399  0.164399  0.164399  0.164399   \n",
      "3  0.000000  0.000000  0.000000  ...  0.000000  0.000000  0.000000  0.000000   \n",
      "4  0.000000  0.000000  0.000000  ...  0.000000  0.000000  0.000000  0.000000   \n",
      "5  0.000000  0.000000  0.000000  ...  0.000000  0.000000  0.000000  0.000000   \n",
      "6  0.000000  0.206145  0.206145  ...  0.000000  0.000000  0.000000  0.000000   \n",
      "7  0.000000  0.000000  0.000000  ...  0.000000  0.000000  0.000000  0.000000   \n",
      "8  0.000000  0.000000  0.000000  ...  0.000000  0.000000  0.000000  0.000000   \n",
      "\n",
      "        रमण        रस        शन        सम        हर  ९८५१३३१९८९  \n",
      "0  0.000000  0.000000  0.000000  0.000000  0.000000    0.000000  \n",
      "1  0.000000  0.000000  0.000000  0.000000  0.000000    0.000000  \n",
      "2  0.164399  0.164399  0.164399  0.164399  0.164399    0.164399  \n",
      "3  0.000000  0.000000  0.000000  0.000000  0.000000    0.000000  \n",
      "4  0.000000  0.000000  0.000000  0.000000  0.000000    0.000000  \n",
      "5  0.000000  0.000000  0.000000  0.000000  0.000000    0.000000  \n",
      "6  0.000000  0.000000  0.000000  0.000000  0.000000    0.000000  \n",
      "7  0.000000  0.000000  0.000000  0.000000  0.000000    0.000000  \n",
      "8  0.000000  0.000000  0.000000  0.000000  0.000000    0.000000  \n",
      "\n",
      "[9 rows x 338 columns]\n"
     ]
    }
   ],
   "source": [
    "#print the df\n",
    "\n",
    "print(tfidf_df)"
   ]
  },
  {
   "cell_type": "code",
   "execution_count": 8,
   "id": "1754f39f",
   "metadata": {
    "execution": {
     "iopub.execute_input": "2024-03-19T04:45:19.371876Z",
     "iopub.status.busy": "2024-03-19T04:45:19.371470Z",
     "iopub.status.idle": "2024-03-19T04:45:19.376047Z",
     "shell.execute_reply": "2024-03-19T04:45:19.375043Z"
    },
    "papermill": {
     "duration": 0.013703,
     "end_time": "2024-03-19T04:45:19.378192",
     "exception": false,
     "start_time": "2024-03-19T04:45:19.364489",
     "status": "completed"
    },
    "tags": []
   },
   "outputs": [],
   "source": [
    "import pickle"
   ]
  },
  {
   "cell_type": "code",
   "execution_count": 9,
   "id": "ee44d161",
   "metadata": {
    "execution": {
     "iopub.execute_input": "2024-03-19T04:45:19.391266Z",
     "iopub.status.busy": "2024-03-19T04:45:19.390869Z",
     "iopub.status.idle": "2024-03-19T04:45:19.396324Z",
     "shell.execute_reply": "2024-03-19T04:45:19.395286Z"
    },
    "papermill": {
     "duration": 0.014526,
     "end_time": "2024-03-19T04:45:19.398519",
     "exception": false,
     "start_time": "2024-03-19T04:45:19.383993",
     "status": "completed"
    },
    "tags": []
   },
   "outputs": [],
   "source": [
    "# Saving the TF-IDF vectorizer to a pickle file\n",
    "with open('tfidf_vectorizer.pkl', 'wb') as f:\n",
    "    pickle.dump(vectorizer, f)"
   ]
  },
  {
   "cell_type": "code",
   "execution_count": 10,
   "id": "c93a455d",
   "metadata": {
    "execution": {
     "iopub.execute_input": "2024-03-19T04:45:19.411111Z",
     "iopub.status.busy": "2024-03-19T04:45:19.410732Z",
     "iopub.status.idle": "2024-03-19T04:45:19.416215Z",
     "shell.execute_reply": "2024-03-19T04:45:19.415297Z"
    },
    "papermill": {
     "duration": 0.014452,
     "end_time": "2024-03-19T04:45:19.418587",
     "exception": false,
     "start_time": "2024-03-19T04:45:19.404135",
     "status": "completed"
    },
    "tags": []
   },
   "outputs": [],
   "source": [
    "# Saving the TF-IDF matrix to a pickle file\n",
    "with open('tfidf_matrix.pkl', 'wb') as f:\n",
    "    pickle.dump(tfidf_matrix, f)"
   ]
  },
  {
   "cell_type": "code",
   "execution_count": 11,
   "id": "61a250f8",
   "metadata": {
    "execution": {
     "iopub.execute_input": "2024-03-19T04:45:19.432115Z",
     "iopub.status.busy": "2024-03-19T04:45:19.431745Z",
     "iopub.status.idle": "2024-03-19T04:45:19.437558Z",
     "shell.execute_reply": "2024-03-19T04:45:19.436445Z"
    },
    "papermill": {
     "duration": 0.015116,
     "end_time": "2024-03-19T04:45:19.439950",
     "exception": false,
     "start_time": "2024-03-19T04:45:19.424834",
     "status": "completed"
    },
    "tags": []
   },
   "outputs": [],
   "source": [
    "# Loading the TF-IDF vectorizer from the pickle file\n",
    "with open('tfidf_vectorizer.pkl', 'rb') as f:\n",
    "    vectorizer = pickle.load(f)"
   ]
  },
  {
   "cell_type": "code",
   "execution_count": 12,
   "id": "00948fd2",
   "metadata": {
    "execution": {
     "iopub.execute_input": "2024-03-19T04:45:19.453204Z",
     "iopub.status.busy": "2024-03-19T04:45:19.452688Z",
     "iopub.status.idle": "2024-03-19T04:45:19.458208Z",
     "shell.execute_reply": "2024-03-19T04:45:19.457187Z"
    },
    "papermill": {
     "duration": 0.014749,
     "end_time": "2024-03-19T04:45:19.460524",
     "exception": false,
     "start_time": "2024-03-19T04:45:19.445775",
     "status": "completed"
    },
    "tags": []
   },
   "outputs": [],
   "source": [
    "# Loading the TF-IDF matrix from the pickle file\n",
    "with open('tfidf_matrix.pkl', 'rb') as f:\n",
    "    tfidf_matrix = pickle.load(f)"
   ]
  },
  {
   "cell_type": "code",
   "execution_count": null,
   "id": "5ebc09d4",
   "metadata": {
    "papermill": {
     "duration": 0.005453,
     "end_time": "2024-03-19T04:45:19.471806",
     "exception": false,
     "start_time": "2024-03-19T04:45:19.466353",
     "status": "completed"
    },
    "tags": []
   },
   "outputs": [],
   "source": []
  }
 ],
 "metadata": {
  "kaggle": {
   "accelerator": "none",
   "dataSources": [
    {
     "datasetId": 4625732,
     "sourceId": 7881327,
     "sourceType": "datasetVersion"
    }
   ],
   "dockerImageVersionId": 30664,
   "isGpuEnabled": false,
   "isInternetEnabled": false,
   "language": "python",
   "sourceType": "notebook"
  },
  "kernelspec": {
   "display_name": "Python 3",
   "language": "python",
   "name": "python3"
  },
  "language_info": {
   "codemirror_mode": {
    "name": "ipython",
    "version": 3
   },
   "file_extension": ".py",
   "mimetype": "text/x-python",
   "name": "python",
   "nbconvert_exporter": "python",
   "pygments_lexer": "ipython3",
   "version": "3.10.13"
  },
  "papermill": {
   "default_parameters": {},
   "duration": 5.65394,
   "end_time": "2024-03-19T04:45:19.998268",
   "environment_variables": {},
   "exception": null,
   "input_path": "__notebook__.ipynb",
   "output_path": "__notebook__.ipynb",
   "parameters": {},
   "start_time": "2024-03-19T04:45:14.344328",
   "version": "2.5.0"
  }
 },
 "nbformat": 4,
 "nbformat_minor": 5
}
