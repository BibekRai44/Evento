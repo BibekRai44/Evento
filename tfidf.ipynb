{
 "cells": [
  {
   "cell_type": "code",
   "execution_count": 1,
   "id": "98b2ed5a",
   "metadata": {
    "_cell_guid": "b1076dfc-b9ad-4769-8c92-a6c4dae69d19",
    "_uuid": "8f2839f25d086af736a60e9eeb907d3b93b6e0e5",
    "execution": {
     "iopub.execute_input": "2024-03-19T04:22:37.026148Z",
     "iopub.status.busy": "2024-03-19T04:22:37.025653Z",
     "iopub.status.idle": "2024-03-19T04:22:39.833402Z",
     "shell.execute_reply": "2024-03-19T04:22:39.832179Z"
    },
    "papermill": {
     "duration": 2.816931,
     "end_time": "2024-03-19T04:22:39.836372",
     "exception": false,
     "start_time": "2024-03-19T04:22:37.019441",
     "status": "completed"
    },
    "tags": []
   },
   "outputs": [],
   "source": [
    "#importing required Libraries\n",
    "\n",
    "import pandas as pd\n",
    "import numpy as np\n",
    "from sklearn.feature_extraction.text import TfidfVectorizer"
   ]
  },
  {
   "cell_type": "code",
   "execution_count": 2,
   "id": "b24c5f8e",
   "metadata": {
    "execution": {
     "iopub.execute_input": "2024-03-19T04:22:39.846831Z",
     "iopub.status.busy": "2024-03-19T04:22:39.846200Z",
     "iopub.status.idle": "2024-03-19T04:22:39.896203Z",
     "shell.execute_reply": "2024-03-19T04:22:39.894796Z"
    },
    "papermill": {
     "duration": 0.058643,
     "end_time": "2024-03-19T04:22:39.899324",
     "exception": false,
     "start_time": "2024-03-19T04:22:39.840681",
     "status": "completed"
    },
    "tags": []
   },
   "outputs": [
    {
     "data": {
      "text/html": [
       "<div>\n",
       "<style scoped>\n",
       "    .dataframe tbody tr th:only-of-type {\n",
       "        vertical-align: middle;\n",
       "    }\n",
       "\n",
       "    .dataframe tbody tr th {\n",
       "        vertical-align: top;\n",
       "    }\n",
       "\n",
       "    .dataframe thead th {\n",
       "        text-align: right;\n",
       "    }\n",
       "</style>\n",
       "<table border=\"1\" class=\"dataframe\">\n",
       "  <thead>\n",
       "    <tr style=\"text-align: right;\">\n",
       "      <th></th>\n",
       "      <th>id</th>\n",
       "      <th>eventname</th>\n",
       "      <th>duration</th>\n",
       "      <th>date</th>\n",
       "      <th>location</th>\n",
       "      <th>description</th>\n",
       "      <th>time</th>\n",
       "      <th>organizer</th>\n",
       "      <th>contactorganizer</th>\n",
       "      <th>image_path</th>\n",
       "      <th>user_id</th>\n",
       "    </tr>\n",
       "  </thead>\n",
       "  <tbody>\n",
       "    <tr>\n",
       "      <th>0</th>\n",
       "      <td>1</td>\n",
       "      <td>2024 Repco Adelaide MotorSport Festival</td>\n",
       "      <td>2 days</td>\n",
       "      <td>2024-03-15</td>\n",
       "      <td>Hilton Houston Westchase</td>\n",
       "      <td>come and join us</td>\n",
       "      <td>09:00</td>\n",
       "      <td>Adelaide Motorsport Festival</td>\n",
       "      <td>https://www.facebook.com/adelaidemotorsportfes...</td>\n",
       "      <td>411316059_675307904753977_3454518149217349407_...</td>\n",
       "      <td>1</td>\n",
       "    </tr>\n",
       "    <tr>\n",
       "      <th>1</th>\n",
       "      <td>2</td>\n",
       "      <td>Blood Donation Program</td>\n",
       "      <td>1 day</td>\n",
       "      <td>2024-03-20</td>\n",
       "      <td>Birtamode, Jhapa, 57204</td>\n",
       "      <td>Donate Blood - Save Lives\\r\\nVenue: Durga Mand...</td>\n",
       "      <td>09:00</td>\n",
       "      <td>Biratamod Round Table</td>\n",
       "      <td>https://www.facebook.com/birtamoderoundtable</td>\n",
       "      <td>433238822_708984091442096_3851098017303531006_...</td>\n",
       "      <td>1</td>\n",
       "    </tr>\n",
       "    <tr>\n",
       "      <th>2</th>\n",
       "      <td>3</td>\n",
       "      <td>धार्मिक तिर्थ</td>\n",
       "      <td>1 day</td>\n",
       "      <td>2024-03-27</td>\n",
       "      <td>Kakarvitta, Jhapa, Nepal काँकरभिट्टा झापा नेपाल</td>\n",
       "      <td>यस धार्मिक तिर्थ यात्रामा हामी निम्न तिर्थ हरु...</td>\n",
       "      <td>07:00</td>\n",
       "      <td>तिर्थ यात्री</td>\n",
       "      <td>https://www.facebook.com/profile.php?id=100090...</td>\n",
       "      <td>425486992_334556589577966_3357410777243732973_...</td>\n",
       "      <td>2</td>\n",
       "    </tr>\n",
       "    <tr>\n",
       "      <th>3</th>\n",
       "      <td>4</td>\n",
       "      <td>Holi Utsav 2080</td>\n",
       "      <td>1 day</td>\n",
       "      <td>2024-03-25</td>\n",
       "      <td>Birtamod City Centre</td>\n",
       "      <td>Experience the Colour Of Festival Holi Utsav 2...</td>\n",
       "      <td>11:45</td>\n",
       "      <td>DJ NOX</td>\n",
       "      <td>https://www.facebook.com/DJNOXOFFICIALL</td>\n",
       "      <td>430870976_827171439425262_6377242910932712263_...</td>\n",
       "      <td>2</td>\n",
       "    </tr>\n",
       "    <tr>\n",
       "      <th>4</th>\n",
       "      <td>5</td>\n",
       "      <td>World Ballet Series: Swan Lake</td>\n",
       "      <td>8 days</td>\n",
       "      <td>2024-03-19</td>\n",
       "      <td>Grand Theater Wausau</td>\n",
       "      <td>Experience the legendary!\\r\\nSwan Lake, the ba...</td>\n",
       "      <td>09:00</td>\n",
       "      <td>World Ballet Series</td>\n",
       "      <td>https://www.facebook.com/WorldBalletSeries</td>\n",
       "      <td>397996973_377937914572108_3266529130995189664_...</td>\n",
       "      <td>3</td>\n",
       "    </tr>\n",
       "  </tbody>\n",
       "</table>\n",
       "</div>"
      ],
      "text/plain": [
       "   id                                eventname duration        date  \\\n",
       "0   1  2024 Repco Adelaide MotorSport Festival   2 days  2024-03-15   \n",
       "1   2                   Blood Donation Program    1 day  2024-03-20   \n",
       "2   3                            धार्मिक तिर्थ    1 day  2024-03-27   \n",
       "3   4                          Holi Utsav 2080    1 day  2024-03-25   \n",
       "4   5           World Ballet Series: Swan Lake   8 days  2024-03-19   \n",
       "\n",
       "                                          location  \\\n",
       "0                         Hilton Houston Westchase   \n",
       "1                          Birtamode, Jhapa, 57204   \n",
       "2  Kakarvitta, Jhapa, Nepal काँकरभिट्टा झापा नेपाल   \n",
       "3                             Birtamod City Centre   \n",
       "4                             Grand Theater Wausau   \n",
       "\n",
       "                                         description   time  \\\n",
       "0                                   come and join us  09:00   \n",
       "1  Donate Blood - Save Lives\\r\\nVenue: Durga Mand...  09:00   \n",
       "2  यस धार्मिक तिर्थ यात्रामा हामी निम्न तिर्थ हरु...  07:00   \n",
       "3  Experience the Colour Of Festival Holi Utsav 2...  11:45   \n",
       "4  Experience the legendary!\\r\\nSwan Lake, the ba...  09:00   \n",
       "\n",
       "                      organizer  \\\n",
       "0  Adelaide Motorsport Festival   \n",
       "1         Biratamod Round Table   \n",
       "2                  तिर्थ यात्री   \n",
       "3                        DJ NOX   \n",
       "4           World Ballet Series   \n",
       "\n",
       "                                    contactorganizer  \\\n",
       "0  https://www.facebook.com/adelaidemotorsportfes...   \n",
       "1       https://www.facebook.com/birtamoderoundtable   \n",
       "2  https://www.facebook.com/profile.php?id=100090...   \n",
       "3            https://www.facebook.com/DJNOXOFFICIALL   \n",
       "4         https://www.facebook.com/WorldBalletSeries   \n",
       "\n",
       "                                          image_path  user_id  \n",
       "0  411316059_675307904753977_3454518149217349407_...        1  \n",
       "1  433238822_708984091442096_3851098017303531006_...        1  \n",
       "2  425486992_334556589577966_3357410777243732973_...        2  \n",
       "3  430870976_827171439425262_6377242910932712263_...        2  \n",
       "4  397996973_377937914572108_3266529130995189664_...        3  "
      ]
     },
     "execution_count": 2,
     "metadata": {},
     "output_type": "execute_result"
    }
   ],
   "source": [
    "#loading dataset\n",
    "\n",
    "df=pd.read_csv(\"/kaggle/input/eventdesc/event_description.csv\")\n",
    "df.head()"
   ]
  },
  {
   "cell_type": "code",
   "execution_count": 3,
   "id": "9e224ffc",
   "metadata": {
    "execution": {
     "iopub.execute_input": "2024-03-19T04:22:39.910415Z",
     "iopub.status.busy": "2024-03-19T04:22:39.910001Z",
     "iopub.status.idle": "2024-03-19T04:22:39.921587Z",
     "shell.execute_reply": "2024-03-19T04:22:39.920373Z"
    },
    "papermill": {
     "duration": 0.020361,
     "end_time": "2024-03-19T04:22:39.924160",
     "exception": false,
     "start_time": "2024-03-19T04:22:39.903799",
     "status": "completed"
    },
    "tags": []
   },
   "outputs": [
    {
     "data": {
      "text/plain": [
       "0                                     come and join us\n",
       "1    Donate Blood - Save Lives\\r\\nVenue: Durga Mand...\n",
       "2    यस धार्मिक तिर्थ यात्रामा हामी निम्न तिर्थ हरु...\n",
       "3    Experience the Colour Of Festival Holi Utsav 2...\n",
       "4    Experience the legendary!\\r\\nSwan Lake, the ba...\n",
       "Name: description, dtype: object"
      ]
     },
     "execution_count": 3,
     "metadata": {},
     "output_type": "execute_result"
    }
   ],
   "source": [
    "#selecting features \n",
    "\n",
    "event_descriptions = df['description']\n",
    "event_descriptions.head()"
   ]
  },
  {
   "cell_type": "code",
   "execution_count": 4,
   "id": "e269f4b5",
   "metadata": {
    "execution": {
     "iopub.execute_input": "2024-03-19T04:22:39.934850Z",
     "iopub.status.busy": "2024-03-19T04:22:39.934417Z",
     "iopub.status.idle": "2024-03-19T04:22:39.940873Z",
     "shell.execute_reply": "2024-03-19T04:22:39.939248Z"
    },
    "papermill": {
     "duration": 0.01484,
     "end_time": "2024-03-19T04:22:39.943525",
     "exception": false,
     "start_time": "2024-03-19T04:22:39.928685",
     "status": "completed"
    },
    "tags": []
   },
   "outputs": [],
   "source": [
    "# Initializing the TF-IDF vectorizer\n",
    "\n",
    "vectorizer = TfidfVectorizer(stop_words='english')"
   ]
  },
  {
   "cell_type": "code",
   "execution_count": 5,
   "id": "1f3fc2da",
   "metadata": {
    "execution": {
     "iopub.execute_input": "2024-03-19T04:22:39.954271Z",
     "iopub.status.busy": "2024-03-19T04:22:39.953869Z",
     "iopub.status.idle": "2024-03-19T04:22:39.982788Z",
     "shell.execute_reply": "2024-03-19T04:22:39.981202Z"
    },
    "papermill": {
     "duration": 0.037559,
     "end_time": "2024-03-19T04:22:39.985733",
     "exception": false,
     "start_time": "2024-03-19T04:22:39.948174",
     "status": "completed"
    },
    "tags": []
   },
   "outputs": [],
   "source": [
    "# Fitting and transforming the event descriptions using TF-IDF vectorizer\n",
    "\n",
    "tfidf_matrix = vectorizer.fit_transform(event_descriptions)"
   ]
  },
  {
   "cell_type": "code",
   "execution_count": 6,
   "id": "643905d4",
   "metadata": {
    "execution": {
     "iopub.execute_input": "2024-03-19T04:22:39.996985Z",
     "iopub.status.busy": "2024-03-19T04:22:39.995915Z",
     "iopub.status.idle": "2024-03-19T04:22:40.001692Z",
     "shell.execute_reply": "2024-03-19T04:22:40.000714Z"
    },
    "papermill": {
     "duration": 0.014042,
     "end_time": "2024-03-19T04:22:40.004283",
     "exception": false,
     "start_time": "2024-03-19T04:22:39.990241",
     "status": "completed"
    },
    "tags": []
   },
   "outputs": [],
   "source": [
    "# Converting  the TF-IDF matrix to a DataFrame with columns as terms and rows as events\n",
    "\n",
    "tfidf_df = pd.DataFrame(tfidf_matrix.toarray(), columns=vectorizer.get_feature_names_out())"
   ]
  },
  {
   "cell_type": "code",
   "execution_count": 7,
   "id": "137ee5d6",
   "metadata": {
    "execution": {
     "iopub.execute_input": "2024-03-19T04:22:40.016098Z",
     "iopub.status.busy": "2024-03-19T04:22:40.014947Z",
     "iopub.status.idle": "2024-03-19T04:22:40.033116Z",
     "shell.execute_reply": "2024-03-19T04:22:40.031784Z"
    },
    "papermill": {
     "duration": 0.027565,
     "end_time": "2024-03-19T04:22:40.036761",
     "exception": false,
     "start_time": "2024-03-19T04:22:40.009196",
     "status": "completed"
    },
    "tags": []
   },
   "outputs": [
    {
     "name": "stdout",
     "output_type": "stream",
     "text": [
      "         14       140       150        20      2024      2074      2080  \\\n",
      "0  0.000000  0.000000  0.000000  0.000000  0.000000  0.000000  0.000000   \n",
      "1  0.000000  0.000000  0.000000  0.000000  0.172587  0.000000  0.000000   \n",
      "2  0.164399  0.000000  0.000000  0.000000  0.000000  0.164399  0.000000   \n",
      "3  0.000000  0.000000  0.000000  0.000000  0.000000  0.000000  0.110698   \n",
      "4  0.000000  0.000000  0.079044  0.093586  0.000000  0.000000  0.000000   \n",
      "5  0.000000  0.000000  0.070122  0.000000  0.053869  0.000000  0.000000   \n",
      "6  0.000000  0.000000  0.000000  0.000000  0.267516  0.000000  0.000000   \n",
      "7  0.000000  0.000000  0.000000  0.000000  0.000000  0.000000  0.000000   \n",
      "8  0.000000  0.096311  0.000000  0.000000  0.062492  0.000000  0.000000   \n",
      "\n",
      "       20th        26        27  ...        मन       यबस        यस        रम  \\\n",
      "0  0.000000  0.000000  0.000000  ...  0.000000  0.000000  0.000000  0.000000   \n",
      "1  0.265988  0.000000  0.000000  ...  0.000000  0.000000  0.000000  0.000000   \n",
      "2  0.000000  0.000000  0.000000  ...  0.164399  0.164399  0.164399  0.164399   \n",
      "3  0.000000  0.000000  0.000000  ...  0.000000  0.000000  0.000000  0.000000   \n",
      "4  0.000000  0.000000  0.000000  ...  0.000000  0.000000  0.000000  0.000000   \n",
      "5  0.000000  0.000000  0.000000  ...  0.000000  0.000000  0.000000  0.000000   \n",
      "6  0.000000  0.206145  0.206145  ...  0.000000  0.000000  0.000000  0.000000   \n",
      "7  0.000000  0.000000  0.000000  ...  0.000000  0.000000  0.000000  0.000000   \n",
      "8  0.000000  0.000000  0.000000  ...  0.000000  0.000000  0.000000  0.000000   \n",
      "\n",
      "        रमण        रस        शन        सम        हर  ९८५१३३१९८९  \n",
      "0  0.000000  0.000000  0.000000  0.000000  0.000000    0.000000  \n",
      "1  0.000000  0.000000  0.000000  0.000000  0.000000    0.000000  \n",
      "2  0.164399  0.164399  0.164399  0.164399  0.164399    0.164399  \n",
      "3  0.000000  0.000000  0.000000  0.000000  0.000000    0.000000  \n",
      "4  0.000000  0.000000  0.000000  0.000000  0.000000    0.000000  \n",
      "5  0.000000  0.000000  0.000000  0.000000  0.000000    0.000000  \n",
      "6  0.000000  0.000000  0.000000  0.000000  0.000000    0.000000  \n",
      "7  0.000000  0.000000  0.000000  0.000000  0.000000    0.000000  \n",
      "8  0.000000  0.000000  0.000000  0.000000  0.000000    0.000000  \n",
      "\n",
      "[9 rows x 338 columns]\n"
     ]
    }
   ],
   "source": [
    "#print the df\n",
    "\n",
    "print(tfidf_df)"
   ]
  },
  {
   "cell_type": "code",
   "execution_count": null,
   "id": "4bf4b443",
   "metadata": {
    "papermill": {
     "duration": 0.005063,
     "end_time": "2024-03-19T04:22:40.046685",
     "exception": false,
     "start_time": "2024-03-19T04:22:40.041622",
     "status": "completed"
    },
    "tags": []
   },
   "outputs": [],
   "source": []
  }
 ],
 "metadata": {
  "kaggle": {
   "accelerator": "none",
   "dataSources": [
    {
     "datasetId": 4625732,
     "sourceId": 7881327,
     "sourceType": "datasetVersion"
    }
   ],
   "dockerImageVersionId": 30664,
   "isGpuEnabled": false,
   "isInternetEnabled": false,
   "language": "python",
   "sourceType": "notebook"
  },
  "kernelspec": {
   "display_name": "Python 3",
   "language": "python",
   "name": "python3"
  },
  "language_info": {
   "codemirror_mode": {
    "name": "ipython",
    "version": 3
   },
   "file_extension": ".py",
   "mimetype": "text/x-python",
   "name": "python",
   "nbconvert_exporter": "python",
   "pygments_lexer": "ipython3",
   "version": "3.10.13"
  },
  "papermill": {
   "default_parameters": {},
   "duration": 6.949776,
   "end_time": "2024-03-19T04:22:40.674009",
   "environment_variables": {},
   "exception": null,
   "input_path": "__notebook__.ipynb",
   "output_path": "__notebook__.ipynb",
   "parameters": {},
   "start_time": "2024-03-19T04:22:33.724233",
   "version": "2.5.0"
  }
 },
 "nbformat": 4,
 "nbformat_minor": 5
}
